{
  "nbformat": 4,
  "nbformat_minor": 0,
  "metadata": {
    "colab": {
      "provenance": []
    },
    "kernelspec": {
      "name": "python3",
      "display_name": "Python 3"
    }
  },
  "cells": [
    {
      "cell_type": "markdown",
      "metadata": {
        "id": "CazISR8X_HUG"
      },
      "source": [
        "# PHOENIX HEALTH INSURANCE\n",
        "# Multiple Linear Regression Model"
      ]
    },
    {
      "cell_type": "markdown",
      "metadata": {
        "id": "pOyqYHTk_Q57"
      },
      "source": [
        "## Importing the libraries"
      ]
    },
    {
      "cell_type": "code",
      "metadata": {
        "id": "T_YHJjnD_Tja"
      },
      "source": [
        "import numpy as np\n",
        "import matplotlib.pyplot as plt\n",
        "import pandas as pd\n",
        "import seaborn as sns"
      ],
      "execution_count": null,
      "outputs": []
    },
    {
      "cell_type": "markdown",
      "metadata": {
        "id": "vgC61-ah_WIz"
      },
      "source": [
        "## Importing the dataset"
      ]
    },
    {
      "cell_type": "code",
      "metadata": {
        "id": "UrxyEKGn_ez7"
      },
      "source": [
        "dataset = pd.read_csv('insurance.csv')\n",
        "X = dataset.iloc[:, :-1].values\n",
        "y = dataset.iloc[:, -1].values"
      ],
      "execution_count": null,
      "outputs": []
    },
    {
      "cell_type": "code",
      "source": [
        "print(dataset.head(5))"
      ],
      "metadata": {
        "colab": {
          "base_uri": "https://localhost:8080/"
        },
        "id": "6f9j94e5cNem",
        "outputId": "e391d11e-97e0-4ab1-e1ac-adec5916d002"
      },
      "execution_count": null,
      "outputs": [
        {
          "output_type": "stream",
          "name": "stdout",
          "text": [
            "   age     sex     bmi  children smoker     region      charges\n",
            "0   19  female  27.900         0    yes  southwest  16884.92400\n",
            "1   18    male  33.770         1     no  southeast   1725.55230\n",
            "2   28    male  33.000         3     no  southeast   4449.46200\n",
            "3   33    male  22.705         0     no  northwest  21984.47061\n",
            "4   32    male  28.880         0     no  northwest   3866.85520\n"
          ]
        }
      ]
    },
    {
      "cell_type": "code",
      "source": [
        "print(dataset.describe())"
      ],
      "metadata": {
        "colab": {
          "base_uri": "https://localhost:8080/"
        },
        "collapsed": true,
        "id": "tFEbKv87dE5-",
        "outputId": "cd9e11da-d52c-46c7-e9d5-0dbcf5d9f1b7"
      },
      "execution_count": null,
      "outputs": [
        {
          "output_type": "stream",
          "name": "stdout",
          "text": [
            "               age          bmi     children       charges\n",
            "count  1338.000000  1338.000000  1338.000000   1338.000000\n",
            "mean     39.207025    30.663397     1.094918  13270.422265\n",
            "std      14.049960     6.098187     1.205493  12110.011237\n",
            "min      18.000000    15.960000     0.000000   1121.873900\n",
            "25%      27.000000    26.296250     0.000000   4740.287150\n",
            "50%      39.000000    30.400000     1.000000   9382.033000\n",
            "75%      51.000000    34.693750     2.000000  16639.912515\n",
            "max      64.000000    53.130000     5.000000  63770.428010\n"
          ]
        }
      ]
    },
    {
      "cell_type": "code",
      "source": [
        "# CHECKING TO SEE IF ANY VALUES ARE MISSING\n",
        "\n",
        "missing_values = dataset.isnull().sum()\n",
        "print(missing_values)"
      ],
      "metadata": {
        "colab": {
          "base_uri": "https://localhost:8080/"
        },
        "collapsed": true,
        "id": "zx-VBWx2lQWq",
        "outputId": "c5fbd879-b3d6-4514-ece9-1e4841dbb360"
      },
      "execution_count": null,
      "outputs": [
        {
          "output_type": "stream",
          "name": "stdout",
          "text": [
            "age         0\n",
            "sex         0\n",
            "bmi         0\n",
            "children    0\n",
            "smoker      0\n",
            "region      0\n",
            "charges     0\n",
            "dtype: int64\n"
          ]
        }
      ]
    },
    {
      "cell_type": "code",
      "source": [
        "# print(X)"
      ],
      "metadata": {
        "id": "mJ1Tz97muAV0"
      },
      "execution_count": null,
      "outputs": []
    },
    {
      "cell_type": "code",
      "source": [
        "# print(y)"
      ],
      "metadata": {
        "collapsed": true,
        "id": "lxD1bfOPWrpw"
      },
      "execution_count": null,
      "outputs": []
    },
    {
      "cell_type": "markdown",
      "source": [
        "# Label Encoding Data"
      ],
      "metadata": {
        "id": "OKXgxc_YXUWi"
      }
    },
    {
      "cell_type": "code",
      "source": [
        "#ENCODING SEX\n",
        "\n",
        "from sklearn.preprocessing import LabelEncoder\n",
        "\n",
        "binary_data = X[:,1]\n",
        "\n",
        "encoder = LabelEncoder()\n",
        "binary_encoded = encoder.fit_transform(binary_data)\n",
        "X[:,1] = binary_encoded\n",
        "# print(X)"
      ],
      "metadata": {
        "id": "MD9AIKFUnj-Y"
      },
      "execution_count": null,
      "outputs": []
    },
    {
      "cell_type": "code",
      "source": [
        "#ENCODING SMOKE\n",
        "\n",
        "from sklearn.preprocessing import LabelEncoder\n",
        "\n",
        "binary_data = X[:,4]\n",
        "\n",
        "encoder = LabelEncoder()\n",
        "binary_encoded = encoder.fit_transform(binary_data)\n",
        "X[:,4] = binary_encoded\n",
        "# print(X)"
      ],
      "metadata": {
        "id": "u_C6S1xapm6U"
      },
      "execution_count": null,
      "outputs": []
    },
    {
      "cell_type": "code",
      "source": [
        "#ENCODING REGION\n",
        "\n",
        "from sklearn.preprocessing import LabelEncoder\n",
        "\n",
        "binary_data = X[:,5]\n",
        "\n",
        "encoder = LabelEncoder()\n",
        "binary_encoded = encoder.fit_transform(binary_data)\n",
        "X[:,5] = binary_encoded\n",
        "for i in range(0,10):\n",
        "  print(X[i])"
      ],
      "metadata": {
        "colab": {
          "base_uri": "https://localhost:8080/"
        },
        "id": "pXszOZWuqXML",
        "outputId": "684c1149-dbcc-4fa7-925b-3ca0f7ad90de"
      },
      "execution_count": null,
      "outputs": [
        {
          "output_type": "stream",
          "name": "stdout",
          "text": [
            "[19 0 27.9 0 1 3]\n",
            "[18 1 33.77 1 0 2]\n",
            "[28 1 33.0 3 0 2]\n",
            "[33 1 22.705 0 0 1]\n",
            "[32 1 28.88 0 0 1]\n",
            "[31 0 25.74 0 0 2]\n",
            "[46 0 33.44 1 0 2]\n",
            "[37 0 27.74 3 0 1]\n",
            "[37 1 29.83 2 0 0]\n",
            "[60 0 25.84 0 0 1]\n"
          ]
        }
      ]
    },
    {
      "cell_type": "markdown",
      "source": [
        "SPLITTING AND TRAINING THE DATA"
      ],
      "metadata": {
        "id": "cbM-UoqFuL9y"
      }
    },
    {
      "cell_type": "code",
      "metadata": {
        "id": "Kb_v_ae-A-20"
      },
      "source": [
        "from sklearn.model_selection import train_test_split\n",
        "X_train, X_test, y_train, y_test = train_test_split(X, y, test_size = 0.15, random_state = 42)"
      ],
      "execution_count": null,
      "outputs": []
    },
    {
      "cell_type": "markdown",
      "source": [
        "# FEATURE SCALING"
      ],
      "metadata": {
        "id": "NZD_MNtdsVkI"
      }
    },
    {
      "cell_type": "code",
      "source": [
        "from sklearn.preprocessing import StandardScaler\n",
        "\n",
        "from sklearn.preprocessing import StandardScaler\n",
        "sc = StandardScaler()\n",
        "X_train = sc.fit_transform(X_train)\n",
        "X_test = sc.transform(X_test)"
      ],
      "metadata": {
        "id": "Dh8CAtzysepZ"
      },
      "execution_count": null,
      "outputs": []
    },
    {
      "cell_type": "code",
      "source": [
        "print(X_test)"
      ],
      "metadata": {
        "colab": {
          "base_uri": "https://localhost:8080/"
        },
        "id": "zL1siItstf4D",
        "outputId": "dd68dc77-79a5-4bc9-b3f3-9d509e71f010"
      },
      "execution_count": null,
      "outputs": [
        {
          "output_type": "stream",
          "name": "stdout",
          "text": [
            "[[ 0.40866695 -1.02223482 -0.87809467  0.74502806 -0.50631373 -1.37562266]\n",
            " [-0.23086339 -1.02223482 -0.08669494 -0.90141879 -0.50631373 -0.47048206]\n",
            " [ 1.75878655 -1.02223482 -0.59877712 -0.90141879  1.97506002 -0.47048206]\n",
            " ...\n",
            " [-1.50992406 -1.02223482 -0.69188297 -0.90141879 -0.50631373 -1.37562266]\n",
            " [ 0.76396158 -1.02223482 -0.80867364 -0.90141879 -0.50631373  1.33979915]\n",
            " [-0.94145265 -1.02223482 -1.35914156 -0.90141879 -0.50631373 -0.47048206]]\n"
          ]
        }
      ]
    },
    {
      "cell_type": "code",
      "source": [
        "print(X_train)"
      ],
      "metadata": {
        "colab": {
          "base_uri": "https://localhost:8080/"
        },
        "id": "LocZsUwpth0n",
        "outputId": "845f5188-360e-4d93-9a7f-c9d3a4fd67a0"
      },
      "execution_count": null,
      "outputs": [
        {
          "output_type": "stream",
          "name": "stdout",
          "text": [
            "[[ 0.90607943  0.97824881 -0.52118891 -0.90141879  1.97506002 -0.47048206]\n",
            " [-0.65721695  0.97824881  2.23278415  0.74502806 -0.50631373  0.43465855]\n",
            " [-1.43886514  0.97824881 -0.53670655  0.74502806 -0.50631373 -0.47048206]\n",
            " ...\n",
            " [ 1.33243299  0.97824881 -0.87809467 -0.90141879 -0.50631373 -1.37562266]\n",
            " [-0.15980446 -1.02223482  2.7848855   0.74502806  1.97506002  1.33979915]\n",
            " [ 1.11925621  0.97824881 -0.10629617 -0.90141879 -0.50631373  1.33979915]]\n"
          ]
        }
      ]
    },
    {
      "cell_type": "markdown",
      "metadata": {
        "id": "k-McZVsQBINc"
      },
      "source": [
        "## Training using Multiple Linear Regression model"
      ]
    },
    {
      "cell_type": "code",
      "metadata": {
        "id": "ywPjx0L1BMiD",
        "colab": {
          "base_uri": "https://localhost:8080/",
          "height": 75
        },
        "outputId": "d239bf3b-eb89-422e-d2ea-6bade4b219ef",
        "collapsed": true
      },
      "source": [
        "from sklearn.linear_model import LinearRegression\n",
        "regressor = LinearRegression()\n",
        "regressor.fit(X_train, y_train)"
      ],
      "execution_count": null,
      "outputs": [
        {
          "output_type": "execute_result",
          "data": {
            "text/plain": [
              "LinearRegression()"
            ],
            "text/html": [
              "<style>#sk-container-id-1 {color: black;background-color: white;}#sk-container-id-1 pre{padding: 0;}#sk-container-id-1 div.sk-toggleable {background-color: white;}#sk-container-id-1 label.sk-toggleable__label {cursor: pointer;display: block;width: 100%;margin-bottom: 0;padding: 0.3em;box-sizing: border-box;text-align: center;}#sk-container-id-1 label.sk-toggleable__label-arrow:before {content: \"▸\";float: left;margin-right: 0.25em;color: #696969;}#sk-container-id-1 label.sk-toggleable__label-arrow:hover:before {color: black;}#sk-container-id-1 div.sk-estimator:hover label.sk-toggleable__label-arrow:before {color: black;}#sk-container-id-1 div.sk-toggleable__content {max-height: 0;max-width: 0;overflow: hidden;text-align: left;background-color: #f0f8ff;}#sk-container-id-1 div.sk-toggleable__content pre {margin: 0.2em;color: black;border-radius: 0.25em;background-color: #f0f8ff;}#sk-container-id-1 input.sk-toggleable__control:checked~div.sk-toggleable__content {max-height: 200px;max-width: 100%;overflow: auto;}#sk-container-id-1 input.sk-toggleable__control:checked~label.sk-toggleable__label-arrow:before {content: \"▾\";}#sk-container-id-1 div.sk-estimator input.sk-toggleable__control:checked~label.sk-toggleable__label {background-color: #d4ebff;}#sk-container-id-1 div.sk-label input.sk-toggleable__control:checked~label.sk-toggleable__label {background-color: #d4ebff;}#sk-container-id-1 input.sk-hidden--visually {border: 0;clip: rect(1px 1px 1px 1px);clip: rect(1px, 1px, 1px, 1px);height: 1px;margin: -1px;overflow: hidden;padding: 0;position: absolute;width: 1px;}#sk-container-id-1 div.sk-estimator {font-family: monospace;background-color: #f0f8ff;border: 1px dotted black;border-radius: 0.25em;box-sizing: border-box;margin-bottom: 0.5em;}#sk-container-id-1 div.sk-estimator:hover {background-color: #d4ebff;}#sk-container-id-1 div.sk-parallel-item::after {content: \"\";width: 100%;border-bottom: 1px solid gray;flex-grow: 1;}#sk-container-id-1 div.sk-label:hover label.sk-toggleable__label {background-color: #d4ebff;}#sk-container-id-1 div.sk-serial::before {content: \"\";position: absolute;border-left: 1px solid gray;box-sizing: border-box;top: 0;bottom: 0;left: 50%;z-index: 0;}#sk-container-id-1 div.sk-serial {display: flex;flex-direction: column;align-items: center;background-color: white;padding-right: 0.2em;padding-left: 0.2em;position: relative;}#sk-container-id-1 div.sk-item {position: relative;z-index: 1;}#sk-container-id-1 div.sk-parallel {display: flex;align-items: stretch;justify-content: center;background-color: white;position: relative;}#sk-container-id-1 div.sk-item::before, #sk-container-id-1 div.sk-parallel-item::before {content: \"\";position: absolute;border-left: 1px solid gray;box-sizing: border-box;top: 0;bottom: 0;left: 50%;z-index: -1;}#sk-container-id-1 div.sk-parallel-item {display: flex;flex-direction: column;z-index: 1;position: relative;background-color: white;}#sk-container-id-1 div.sk-parallel-item:first-child::after {align-self: flex-end;width: 50%;}#sk-container-id-1 div.sk-parallel-item:last-child::after {align-self: flex-start;width: 50%;}#sk-container-id-1 div.sk-parallel-item:only-child::after {width: 0;}#sk-container-id-1 div.sk-dashed-wrapped {border: 1px dashed gray;margin: 0 0.4em 0.5em 0.4em;box-sizing: border-box;padding-bottom: 0.4em;background-color: white;}#sk-container-id-1 div.sk-label label {font-family: monospace;font-weight: bold;display: inline-block;line-height: 1.2em;}#sk-container-id-1 div.sk-label-container {text-align: center;}#sk-container-id-1 div.sk-container {/* jupyter's `normalize.less` sets `[hidden] { display: none; }` but bootstrap.min.css set `[hidden] { display: none !important; }` so we also need the `!important` here to be able to override the default hidden behavior on the sphinx rendered scikit-learn.org. See: https://github.com/scikit-learn/scikit-learn/issues/21755 */display: inline-block !important;position: relative;}#sk-container-id-1 div.sk-text-repr-fallback {display: none;}</style><div id=\"sk-container-id-1\" class=\"sk-top-container\"><div class=\"sk-text-repr-fallback\"><pre>LinearRegression()</pre><b>In a Jupyter environment, please rerun this cell to show the HTML representation or trust the notebook. <br />On GitHub, the HTML representation is unable to render, please try loading this page with nbviewer.org.</b></div><div class=\"sk-container\" hidden><div class=\"sk-item\"><div class=\"sk-estimator sk-toggleable\"><input class=\"sk-toggleable__control sk-hidden--visually\" id=\"sk-estimator-id-1\" type=\"checkbox\" checked><label for=\"sk-estimator-id-1\" class=\"sk-toggleable__label sk-toggleable__label-arrow\">LinearRegression</label><div class=\"sk-toggleable__content\"><pre>LinearRegression()</pre></div></div></div></div></div>"
            ]
          },
          "metadata": {},
          "execution_count": 17
        }
      ]
    },
    {
      "cell_type": "markdown",
      "metadata": {
        "id": "xNkXL1YQBiBT"
      },
      "source": [
        "## Predicting the Test set results"
      ]
    },
    {
      "cell_type": "code",
      "metadata": {
        "id": "TQKmwvtdBkyb",
        "colab": {
          "base_uri": "https://localhost:8080/"
        },
        "collapsed": true,
        "outputId": "b614c5b4-2559-4a25-8c6e-82081722dd8f"
      },
      "source": [
        "y_pred = regressor.predict(X_test)\n",
        "np.set_printoptions(precision=2)\n",
        "print(np.concatenate((y_pred.reshape(len(y_pred),1), y_test.reshape(len(y_test),1)),1))"
      ],
      "execution_count": null,
      "outputs": [
        {
          "output_type": "stream",
          "name": "stdout",
          "text": [
            "[[ 8983.73  9095.07]\n",
            " [ 7138.4   5272.18]\n",
            " [37183.19 29330.98]\n",
            " [ 9495.53  9301.89]\n",
            " [26970.15 33750.29]\n",
            " [10627.05  4536.26]\n",
            " [  285.21  2117.34]\n",
            " [16847.78 14210.54]\n",
            " [ 1162.59  3732.63]\n",
            " [11229.31 10264.44]\n",
            " [28216.14 18259.22]\n",
            " [ 9339.4   7256.72]\n",
            " [ 5374.21  3947.41]\n",
            " [38414.47 46151.12]\n",
            " [40328.14 48673.56]\n",
            " [37148.84 44202.65]\n",
            " [15237.93  9800.89]\n",
            " [36108.68 42969.85]\n",
            " [ 9300.6   8233.1 ]\n",
            " [31717.38 21774.32]\n",
            " [ 3826.48  5080.1 ]\n",
            " [10059.14  7441.5 ]\n",
            " [ 2255.63  1256.3 ]\n",
            " [ 6886.37  2755.02]\n",
            " [11434.95 11085.59]\n",
            " [12909.71 10923.93]\n",
            " [14577.63 12644.59]\n",
            " [ 6186.35 18804.75]\n",
            " [ 9965.39  9715.84]\n",
            " [ 2136.82  1131.51]\n",
            " [ 9185.3  15828.82]\n",
            " [13188.28 11842.62]\n",
            " [ 4578.01  2020.55]\n",
            " [ 3585.75  5693.43]\n",
            " [ 4370.63  2904.09]\n",
            " [12742.93  7448.4 ]\n",
            " [ 2034.16  2597.78]\n",
            " [ 8892.79  7337.75]\n",
            " [33590.9  23887.66]\n",
            " [32653.1  38709.18]\n",
            " [ 3915.47  4687.8 ]\n",
            " [ 4217.56  2643.27]\n",
            " [14185.52 11674.13]\n",
            " [11519.42 12124.99]\n",
            " [ 8701.26  4890.  ]\n",
            " [12150.81 12333.83]\n",
            " [ 5247.36  3579.83]\n",
            " [ 3240.74  4391.65]\n",
            " [35569.19 42124.52]\n",
            " [ 9034.96  4463.21]\n",
            " [15972.36 13887.2 ]\n",
            " [ 2310.16  1719.44]\n",
            " [12290.83 28476.73]\n",
            " [ 1288.85  1708.93]\n",
            " [13415.51 10594.23]\n",
            " [12399.34 25333.33]\n",
            " [ 4196.99  3645.09]\n",
            " [32160.21 38746.36]\n",
            " [13409.91 11848.14]\n",
            " [12833.88 10564.88]\n",
            " [14290.64 13880.95]\n",
            " [10435.04  4753.64]\n",
            " [16299.16 27941.29]\n",
            " [ 7915.81  8017.06]\n",
            " [11805.1  23045.57]\n",
            " [ 4156.84  4133.64]\n",
            " [26716.8  17942.11]\n",
            " [11043.53 25992.82]\n",
            " [ 2269.36  3594.17]\n",
            " [ 5981.05  1682.6 ]\n",
            " [10452.02  6079.67]\n",
            " [11549.53  9411.  ]\n",
            " [11107.17  8283.68]\n",
            " [ 9159.51  6338.08]\n",
            " [11889.29  7152.67]\n",
            " [ 6880.43  4889.04]\n",
            " [ 6989.17  4846.92]\n",
            " [10929.88 11454.02]\n",
            " [ 6639.84  4349.46]\n",
            " [ 8899.29  9101.8 ]\n",
            " [ 3689.6   1391.53]\n",
            " [36696.95 28101.33]\n",
            " [ 6419.88  5152.13]\n",
            " [30748.68 38511.63]\n",
            " [34633.07 44501.4 ]\n",
            " [35233.6  41097.16]\n",
            " [ 6990.35  4837.58]\n",
            " [12845.31 10601.63]\n",
            " [10020.51  8310.84]\n",
            " [14378.74 11264.54]\n",
            " [17589.12 15230.32]\n",
            " [35697.24 27037.91]\n",
            " [33160.66 23401.31]\n",
            " [ 6009.29  5031.27]\n",
            " [32050.24 38282.75]\n",
            " [ 9409.16  6875.96]\n",
            " [29583.13 19719.69]\n",
            " [ 3712.63  1880.07]\n",
            " [28556.09 18765.88]\n",
            " [ 5827.64  6402.29]\n",
            " [ 5476.65  4527.18]\n",
            " [ 1900.07  1743.21]\n",
            " [11397.84  5709.16]\n",
            " [14997.78 12363.55]\n",
            " [11681.51 13129.6 ]\n",
            " [ 4196.64  1727.54]\n",
            " [ 9926.98  7731.43]\n",
            " [32028.09 21195.82]\n",
            " [ -217.42  1702.46]\n",
            " [33221.09 23244.79]\n",
            " [ 3129.3  23082.96]\n",
            " [ 9945.04  2927.06]\n",
            " [14281.1  13019.16]\n",
            " [31652.22 37701.88]\n",
            " [11416.02  9778.35]\n",
            " [ 3779.71  1980.07]\n",
            " [13019.73 30260.  ]\n",
            " [32051.29 22478.6 ]\n",
            " [ 8270.45  6313.76]\n",
            " [ 3186.75  2789.06]\n",
            " [ 8311.11  5594.85]\n",
            " [10507.53  7261.74]\n",
            " [15078.57 11396.9 ]\n",
            " [ 5549.37  1986.93]\n",
            " [ 3903.05  4719.74]\n",
            " [10268.46  7749.16]\n",
            " [10975.75  7345.73]\n",
            " [10978.8   9288.03]\n",
            " [14575.31 12244.53]\n",
            " [ 7246.77  1837.28]\n",
            " [ 5518.98  3972.92]\n",
            " [ 9181.59  5934.38]\n",
            " [ 9387.22  5836.52]\n",
            " [12380.9   7935.29]\n",
            " [ 8367.57  5649.72]\n",
            " [15257.2  12347.17]\n",
            " [ 8144.07 12404.88]\n",
            " [31884.03 22144.03]\n",
            " [35881.67 42983.46]\n",
            " [31641.67 37270.15]\n",
            " [ 6123.97  5267.82]\n",
            " [12528.51  9866.3 ]\n",
            " [ 5927.55  2322.62]\n",
            " [14576.3  33471.97]\n",
            " [ 2535.    2137.65]\n",
            " [33127.2  23306.55]\n",
            " [ 6242.76  5261.47]\n",
            " [ 5088.11  3761.29]\n",
            " [14369.63 11436.74]\n",
            " [ 6874.91  4751.07]\n",
            " [38815.36 46661.44]\n",
            " [ 3139.99  2690.11]\n",
            " [ 5696.22  1146.8 ]\n",
            " [31555.18 37607.53]\n",
            " [11493.62  6373.56]\n",
            " [ 8219.91  4518.83]\n",
            " [14677.68 13555.  ]\n",
            " [ 9988.    8547.69]\n",
            " [27259.42 34439.86]\n",
            " [33360.73 39125.33]\n",
            " [14519.15 13607.37]\n",
            " [ 1752.87  2710.83]\n",
            " [13259.89 14988.43]\n",
            " [ 2067.65  2396.1 ]\n",
            " [ 5308.46  3591.48]\n",
            " [11506.48  7162.01]\n",
            " [39971.24 48824.45]\n",
            " [36744.57 43578.94]\n",
            " [33940.73 39556.49]\n",
            " [ 3914.74  2632.99]\n",
            " [ 7671.65  9182.17]\n",
            " [ 8692.99  6238.3 ]\n",
            " [12103.48  5757.41]\n",
            " [ 4807.86  4239.89]\n",
            " [ 2098.45  2154.36]\n",
            " [32348.28 21978.68]\n",
            " [25153.43 16297.85]\n",
            " [17455.4  13831.12]\n",
            " [26748.26 32734.19]\n",
            " [10390.91 11830.61]\n",
            " [37425.18 29523.17]\n",
            " [ -390.56  3167.46]\n",
            " [ 6912.7   8428.07]\n",
            " [ 7779.91  5012.47]\n",
            " [ 4251.25  5209.58]\n",
            " [ 5090.98  2855.44]\n",
            " [ 5711.78 20277.81]\n",
            " [ 4374.81  3554.2 ]\n",
            " [15149.13  8569.86]\n",
            " [11185.34 10594.5 ]\n",
            " [ 6732.22  3597.6 ]\n",
            " [ 2402.35  7323.73]\n",
            " [ 1506.82  2731.91]\n",
            " [31904.54 38711.  ]\n",
            " [16400.93 12981.35]\n",
            " [12137.16  9283.56]\n",
            " [ 1353.25  2709.11]\n",
            " [12525.09 12096.65]\n",
            " [ 1480.15  2198.19]\n",
            " [ 8900.83  8932.08]\n",
            " [ 2014.92  3176.29]]\n"
          ]
        }
      ]
    },
    {
      "cell_type": "markdown",
      "metadata": {
        "id": "50DZZy0UyhLi"
      },
      "source": [
        "## Evaluating the Model Performance"
      ]
    },
    {
      "cell_type": "code",
      "metadata": {
        "id": "xPagAOKDywV4",
        "colab": {
          "base_uri": "https://localhost:8080/"
        },
        "outputId": "9d024fd9-9879-4510-d694-280785e15c4c"
      },
      "source": [
        "from sklearn.metrics import r2_score\n",
        "accuracy = r2_score(y_test, y_pred)\n",
        "print(f\"Model Accuracy: {accuracy}\")"
      ],
      "execution_count": null,
      "outputs": [
        {
          "output_type": "stream",
          "name": "stdout",
          "text": [
            "Model Accuracy: 0.7970561040137825\n"
          ]
        }
      ]
    },
    {
      "cell_type": "markdown",
      "source": [
        "# VISUALIZATIONS"
      ],
      "metadata": {
        "id": "uUs_Zd3NYuJJ"
      }
    },
    {
      "cell_type": "markdown",
      "source": [
        "## PREDICTED VS. ACTUAL INSURANCE COSTS"
      ],
      "metadata": {
        "id": "xjB4_fmG-3dQ"
      }
    },
    {
      "cell_type": "code",
      "source": [
        "plt.scatter(y_test, y_pred)\n",
        "plt.xlabel('Actual Insurance Costs')\n",
        "plt.ylabel('Predicted Insurance Costs')\n",
        "plt.title('Predicted vs. Actual Insurance Costs')\n",
        "plt.plot([min(y_test), max(y_test)], [min(y_test), max(y_test)], color='red')"
      ],
      "metadata": {
        "colab": {
          "base_uri": "https://localhost:8080/",
          "height": 490
        },
        "id": "dvrJrTC0yHrB",
        "outputId": "66d60510-2f62-4d04-8a47-1ca5112c5253"
      },
      "execution_count": null,
      "outputs": [
        {
          "output_type": "execute_result",
          "data": {
            "text/plain": [
              "[<matplotlib.lines.Line2D at 0x7afcffd5e0b0>]"
            ]
          },
          "metadata": {},
          "execution_count": 20
        },
        {
          "output_type": "display_data",
          "data": {
            "text/plain": [
              "<Figure size 640x480 with 1 Axes>"
            ],
            "image/png": "[encoded data removed]"
          },
          "metadata": {}
        }
      ]
    },
    {
      "cell_type": "markdown",
      "source": [
        "## OVERALL DISTRIBUTION OF CHARGES"
      ],
      "metadata": {
        "id": "5nGvtablZmbQ"
      }
    },
    {
      "cell_type": "code",
      "source": [
        "sns.histplot(y, kde=True)\n",
        "plt.title('Insurance Charge Distribution')\n",
        "plt.xlabel('Insurance Charge')\n",
        "plt.ylabel('Frequency')\n",
        "plt.show()"
      ],
      "metadata": {
        "colab": {
          "base_uri": "https://localhost:8080/",
          "height": 472
        },
        "id": "HESKUjJ9YyPA",
        "outputId": "f74ff10e-61f0-4fc2-99ed-6dd82ff7ed82"
      },
      "execution_count": null,
      "outputs": [
        {
          "output_type": "display_data",
          "data": {
            "text/plain": [
              "<Figure size 640x480 with 1 Axes>"
            ],
            "image/png": "[encoded data removed]"
          },
          "metadata": {}
        }
      ]
    },
    {
      "cell_type": "markdown",
      "source": [
        "## MOST IMPORTANT FEATURES"
      ],
      "metadata": {
        "id": "GBaZq9skas5g"
      }
    },
    {
      "cell_type": "code",
      "source": [
        "important_features = ['age','sex','bmi','children','smoker','region']\n",
        "importance_level = np.abs(regressor.coef_)\n",
        "print(importance_level)\n",
        "\n",
        "plt.barh(important_features, importance_level/1000)\n",
        "plt.title('Feature Importance')\n",
        "plt.xlabel('Importance Level (Scale of 1-10)')\n",
        "plt.ylabel('Feature')\n",
        "plt.show()"
      ],
      "metadata": {
        "colab": {
          "base_uri": "https://localhost:8080/",
          "height": 490
        },
        "id": "xzN4f4JQa0c1",
        "outputId": "7dc23a08-9737-4bba-bf67-53e4402b6d91"
      },
      "execution_count": null,
      "outputs": [
        {
          "output_type": "stream",
          "name": "stdout",
          "text": [
            "[3662.83   64.89 1980.99  513.22 9579.96  249.25]\n"
          ]
        },
        {
          "output_type": "display_data",
          "data": {
            "text/plain": [
              "<Figure size 640x480 with 1 Axes>"
            ],
            "image/png": "[encoded data removed]"
          },
          "metadata": {}
        }
      ]
    },
    {
      "cell_type": "code",
      "source": [
        "print('LET PHOENIX HEALTH PREDICT YOUR INSURANCE COSTS!')\n",
        "\n",
        "age_input = int(input(\"Enter age: \").strip())\n",
        "\n",
        "sex_input = input(\"Enter sex (male/female): \").strip().lower()\n",
        "if sex_input == 'male':\n",
        "  sex_input = 1\n",
        "elif sex_input == 'female':\n",
        "  sex_input = 0\n",
        "else: \"Invalid Sex Entry\"\n",
        "\n",
        "bmi_input = float(input(\"Enter BMI: \").strip())\n",
        "\n",
        "children_input = int(input(\"Enter number of children: \").strip())\n",
        "\n",
        "smoker_input = input(\"Are you a smoker (yes/no): \").strip().lower()\n",
        "if smoker_input == 'yes':\n",
        "  smoker_input = 1\n",
        "elif smoker_input == 'no':\n",
        "  smoker_input = 0\n",
        "else: \"Invalid Smoker Entry\"\n",
        "\n",
        "region_input = input(\"Enter Region(Pick One: northeast | northwest | southeast | southwest): \").strip().lower()\n",
        "if region_input == 'southwest':\n",
        "  region_input = 0\n",
        "elif region_input == 'southeast':\n",
        "  region_input = 1\n",
        "elif region_input == 'northeast':\n",
        "  region_input = 2\n",
        "elif region_input == 'northwest':\n",
        "  region_input = 3\n",
        "else: \"Invalid Region Entry\"\n",
        "\n",
        "inputs = np.array([[age_input, sex_input, bmi_input, children_input, smoker_input, region_input]])\n",
        "scaled_inputs = sc.transform(inputs)\n",
        "# print(scaled_inputs)\n",
        "\n",
        "insurance_estimate = regressor.predict(scaled_inputs)\n",
        "\n",
        "print(\"Estimated Insurance Costs: $\" , round(insurance_estimate[0],2))"
      ],
      "metadata": {
        "colab": {
          "base_uri": "https://localhost:8080/"
        },
        "id": "iQXr4FgL9XKF",
        "outputId": "0d5b7591-7057-4d4d-d8fd-bff1571d27b7"
      },
      "execution_count": null,
      "outputs": [
        {
          "output_type": "stream",
          "name": "stdout",
          "text": [
            "LET PHOENIX HEALTH PREDICT YOUR INSURANCE COSTS!\n",
            "Enter age: 30\n",
            "Enter sex (male/female): male\n",
            "Enter BMI: 35\n",
            "Enter number of children: 2\n",
            "Are you a smoker (yes/no): yes\n",
            "Enter Region(Pick One: northeast | northwest | southeast | southwest): northeast\n",
            "Estimated Insurance Costs: $ 31449.22\n"
          ]
        }
      ]
    }
  ]
}